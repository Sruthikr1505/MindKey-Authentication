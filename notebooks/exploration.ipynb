{
 "cells": [
  {
   "cell_type": "markdown",
   "metadata": {},
   "source": [
    "# DEAP EEG Data Exploration\n",
    "\n",
    "This notebook explores the DEAP dataset and demonstrates the preprocessing pipeline."
   ]
  },
  {
   "cell_type": "code",
   "execution_count": null,
   "metadata": {},
   "outputs": [],
   "source": [
    "import sys\n",
    "sys.path.append('../src')\n",
    "\n",
    "import numpy as np\n",
    "import matplotlib.pyplot as plt\n",
    "import seaborn as sns\n",
    "from pathlib import Path\n",
    "\n",
    "# Import custom modules\n",
    "from preprocessing import load_bdf_to_trials, preprocess_trials\n",
    "from utils.viz import plot_eeg_waveform\n",
    "\n",
    "%matplotlib inline\n",
    "sns.set_style('whitegrid')"
   ]
  },
  {
   "cell_type": "markdown",
   "metadata": {},
   "source": [
    "## 1. Load Raw Data"
   ]
  },
  {
   "cell_type": "code",
   "execution_count": null,
   "metadata": {},
   "outputs": [],
   "source": [
    "# Load one subject's data\n",
    "subject_id = 1\n",
    "bdf_path = f'../data/raw/s{subject_id:02d}.bdf'\n",
    "\n",
    "print(f\"Loading data from {bdf_path}...\")\n",
    "trials = load_bdf_to_trials(bdf_path, n_channels=48)\n",
    "\n",
    "print(f\"Data shape: {trials.shape}\")\n",
    "print(f\"Number of trials: {trials.shape[0]}\")\n",
    "print(f\"Number of channels: {trials.shape[1]}\")\n",
    "print(f\"Samples per trial: {trials.shape[2]}\")\n",
    "print(f\"Duration per trial: {trials.shape[2] / 512:.1f} seconds @ 512 Hz\")"
   ]
  },
  {
   "cell_type": "markdown",
   "metadata": {},
   "source": [
    "## 2. Visualize Raw EEG"
   ]
  },
  {
   "cell_type": "code",
   "execution_count": null,
   "metadata": {},
   "outputs": [],
   "source": [
    "# Plot first trial, first 8 channels\n",
    "trial_idx = 0\n",
    "trial_data = trials[trial_idx]\n",
    "\n",
    "plot_eeg_waveform(\n",
    "    trial_data,\n",
    "    fs=512,\n",
    "    channels_to_plot=list(range(8)),\n",
    "    title=f'Subject {subject_id} - Trial {trial_idx} - Raw EEG'\n",
    ")"
   ]
  },
  {
   "cell_type": "markdown",
   "metadata": {},
   "source": [
    "## 3. Data Statistics"
   ]
  },
  {
   "cell_type": "code",
   "execution_count": null,
   "metadata": {},
   "outputs": [],
   "source": [
    "# Compute statistics\n",
    "print(\"Raw data statistics:\")\n",
    "print(f\"Mean: {trials.mean():.4f}\")\n",
    "print(f\"Std: {trials.std():.4f}\")\n",
    "print(f\"Min: {trials.min():.4f}\")\n",
    "print(f\"Max: {trials.max():.4f}\")\n",
    "\n",
    "# Distribution\n",
    "plt.figure(figsize=(12, 4))\n",
    "plt.subplot(1, 2, 1)\n",
    "plt.hist(trials[0, 0, :], bins=50, alpha=0.7)\n",
    "plt.xlabel('Amplitude')\n",
    "plt.ylabel('Frequency')\n",
    "plt.title('Distribution of Channel 0 Values')\n",
    "\n",
    "plt.subplot(1, 2, 2)\n",
    "channel_means = trials[0].mean(axis=1)\n",
    "plt.bar(range(len(channel_means)), channel_means)\n",
    "plt.xlabel('Channel')\n",
    "plt.ylabel('Mean Amplitude')\n",
    "plt.title('Mean Amplitude per Channel')\n",
    "plt.tight_layout()\n",
    "plt.show()"
   ]
  },
  {
   "cell_type": "markdown",
   "metadata": {},
   "source": [
    "## 4. Preprocessing"
   ]
  },
  {
   "cell_type": "code",
   "execution_count": null,
   "metadata": {},
   "outputs": [],
   "source": [
    "# Preprocess trials\n",
    "print(\"Preprocessing trials...\")\n",
    "processed = preprocess_trials(\n",
    "    trials[:5],  # Process first 5 trials for speed\n",
    "    fs_in=512,\n",
    "    fs_out=128,\n",
    "    do_ica=False  # Skip ICA for speed in demo\n",
    ")\n",
    "\n",
    "print(f\"Processed shape: {processed.shape}\")\n",
    "print(f\"Downsampled from {trials.shape[2]} to {processed.shape[2]} samples\")"
   ]
  },
  {
   "cell_type": "markdown",
   "metadata": {},
   "source": [
    "## 5. Compare Raw vs Preprocessed"
   ]
  },
  {
   "cell_type": "code",
   "execution_count": null,
   "metadata": {},
   "outputs": [],
   "source": [
    "# Plot comparison\n",
    "fig, axes = plt.subplots(2, 1, figsize=(14, 8))\n",
    "\n",
    "# Raw\n",
    "time_raw = np.arange(trials[0, 0, :].shape[0]) / 512\n",
    "axes[0].plot(time_raw[:2000], trials[0, 0, :2000], linewidth=0.5)\n",
    "axes[0].set_title('Raw EEG (Channel 0, first 4 seconds)')\n",
    "axes[0].set_xlabel('Time (s)')\n",
    "axes[0].set_ylabel('Amplitude')\n",
    "axes[0].grid(True, alpha=0.3)\n",
    "\n",
    "# Preprocessed\n",
    "time_proc = np.arange(processed[0, 0, :].shape[0]) / 128\n",
    "axes[1].plot(time_proc[:500], processed[0, 0, :500], linewidth=0.5, color='orange')\n",
    "axes[1].set_title('Preprocessed EEG (Channel 0, first 4 seconds)')\n",
    "axes[1].set_xlabel('Time (s)')\n",
    "axes[1].set_ylabel('Normalized Amplitude')\n",
    "axes[1].grid(True, alpha=0.3)\n",
    "\n",
    "plt.tight_layout()\n",
    "plt.show()\n",
    "\n",
    "print(\"\\nPreprocessed statistics:\")\n",
    "print(f\"Mean: {processed.mean():.4f} (should be ~0)\")\n",
    "print(f\"Std: {processed.std():.4f} (should be ~1)\")"
   ]
  },
  {
   "cell_type": "markdown",
   "metadata": {},
   "source": [
    "## 6. Frequency Analysis"
   ]
  },
  {
   "cell_type": "code",
   "execution_count": null,
   "metadata": {},
   "outputs": [],
   "source": [
    "from scipy import signal\n",
    "\n",
    "# Compute power spectral density\n",
    "fs = 128\n",
    "f, psd = signal.welch(processed[0, 0, :], fs=fs, nperseg=256)\n",
    "\n",
    "plt.figure(figsize=(12, 4))\n",
    "plt.semilogy(f, psd)\n",
    "plt.xlabel('Frequency (Hz)')\n",
    "plt.ylabel('Power Spectral Density')\n",
    "plt.title('PSD of Preprocessed EEG (Channel 0)')\n",
    "plt.xlim([0, 50])\n",
    "plt.grid(True, alpha=0.3)\n",
    "\n",
    "# Mark frequency bands\n",
    "bands = {\n",
    "    'Delta': (0.5, 4),\n",
    "    'Theta': (4, 8),\n",
    "    'Alpha': (8, 13),\n",
    "    'Beta': (13, 30),\n",
    "    'Gamma': (30, 50)\n",
    "}\n",
    "\n",
    "for band_name, (low, high) in bands.items():\n",
    "    plt.axvspan(low, high, alpha=0.1, label=band_name)\n",
    "\n",
    "plt.legend()\n",
    "plt.show()"
   ]
  },
  {
   "cell_type": "markdown",
   "metadata": {},
   "source": [
    "## 7. Windowing for Model Input"
   ]
  },
  {
   "cell_type": "code",
   "execution_count": null,
   "metadata": {},
   "outputs": [],
   "source": [
    "# Create sliding windows\n",
    "window_size = 256  # 2 seconds @ 128 Hz\n",
    "step_size = 128    # 1 second @ 128 Hz\n",
    "\n",
    "trial = processed[0]\n",
    "n_samples = trial.shape[1]\n",
    "\n",
    "windows = []\n",
    "for start in range(0, n_samples - window_size + 1, step_size):\n",
    "    window = trial[:, start:start + window_size]\n",
    "    windows.append(window)\n",
    "\n",
    "windows = np.array(windows)\n",
    "print(f\"Created {len(windows)} windows of shape {windows[0].shape}\")\n",
    "print(f\"Total windows from {processed.shape[0]} trials: {len(windows) * processed.shape[0]}\")"
   ]
  },
  {
   "cell_type": "markdown",
   "metadata": {},
   "source": [
    "## 8. Inter-subject Variability"
   ]
  },
  {
   "cell_type": "code",
   "execution_count": null,
   "metadata": {},
   "outputs": [],
   "source": [
    "# Load multiple subjects\n",
    "subject_means = []\n",
    "subject_stds = []\n",
    "\n",
    "for sid in range(1, 6):  # First 5 subjects\n",
    "    try:\n",
    "        bdf_path = f'../data/raw/s{sid:02d}.bdf'\n",
    "        trials_s = load_bdf_to_trials(bdf_path, n_channels=48)\n",
    "        subject_means.append(trials_s.mean())\n",
    "        subject_stds.append(trials_s.std())\n",
    "    except:\n",
    "        print(f\"Could not load subject {sid}\")\n",
    "\n",
    "if subject_means:\n",
    "    plt.figure(figsize=(10, 4))\n",
    "    plt.subplot(1, 2, 1)\n",
    "    plt.bar(range(1, len(subject_means) + 1), subject_means)\n",
    "    plt.xlabel('Subject ID')\n",
    "    plt.ylabel('Mean Amplitude')\n",
    "    plt.title('Mean Amplitude per Subject')\n",
    "    \n",
    "    plt.subplot(1, 2, 2)\n",
    "    plt.bar(range(1, len(subject_stds) + 1), subject_stds)\n",
    "    plt.xlabel('Subject ID')\n",
    "    plt.ylabel('Std Amplitude')\n",
    "    plt.title('Std Amplitude per Subject')\n",
    "    \n",
    "    plt.tight_layout()\n",
    "    plt.show()"
   ]
  },
  {
   "cell_type": "markdown",
   "metadata": {},
   "source": [
    "## Summary\n",
    "\n",
    "This notebook demonstrated:\n",
    "1. Loading DEAP .bdf files\n",
    "2. Visualizing raw EEG signals\n",
    "3. Preprocessing pipeline (filtering, downsampling, normalization)\n",
    "4. Frequency analysis\n",
    "5. Creating sliding windows for model input\n",
    "6. Inter-subject variability\n",
    "\n",
    "Next steps:\n",
    "- Run full preprocessing: `python src/preprocessing.py`\n",
    "- Train model: `python src/train.py`\n",
    "- Evaluate: `python src/eval.py`"
   ]
  }
 ],
 "metadata": {
  "kernelspec": {
   "display_name": "Python 3",
   "language": "python",
   "name": "python3"
  },
  "language_info": {
   "codemirror_mode": {
    "name": "ipython",
    "version": 3
   },
   "file_extension": ".py",
   "mimetype": "text/x-python",
   "name": "python",
   "nbconvert_exporter": "python",
   "pygments_lexer": "ipython3",
   "version": "3.10.0"
  }
 },
 "nbformat": 4,
 "nbformat_minor": 4
}
